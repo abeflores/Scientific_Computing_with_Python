{
 "cells": [
  {
   "cell_type": "code",
   "execution_count": 11,
   "metadata": {},
   "outputs": [],
   "source": [
    "import pandas as pd\n",
    "\n",
    "with open('whatsapp_wife_chat.txt', 'r', encoding='utf-8') as file:\n",
    "    data = file.read()\n",
    "    words = data.split()\n",
    "    \n",
    "http_words = [word for word in words if 'http' in word]\n",
    "\n",
    "vinculos  = pd.DataFrame(http_words, columns=['Paginas'])\n",
    "\n",
    "vinculos.to_excel('Vinculos_ML_http.xlsx', index=False)\n",
    "\n"
   ]
  }
 ],
 "metadata": {
  "kernelspec": {
   "display_name": "Python 3",
   "language": "python",
   "name": "python3"
  },
  "language_info": {
   "codemirror_mode": {
    "name": "ipython",
    "version": 3
   },
   "file_extension": ".py",
   "mimetype": "text/x-python",
   "name": "python",
   "nbconvert_exporter": "python",
   "pygments_lexer": "ipython3",
   "version": "3.11.3"
  },
  "orig_nbformat": 4
 },
 "nbformat": 4,
 "nbformat_minor": 2
}
